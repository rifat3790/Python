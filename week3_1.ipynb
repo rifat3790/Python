{
  "nbformat": 4,
  "nbformat_minor": 0,
  "metadata": {
    "colab": {
      "provenance": [],
      "authorship_tag": "ABX9TyOnN+uwj04gdJEDl9/+sKNs",
      "include_colab_link": true
    },
    "kernelspec": {
      "name": "python3",
      "display_name": "Python 3"
    },
    "language_info": {
      "name": "python"
    }
  },
  "cells": [
    {
      "cell_type": "markdown",
      "metadata": {
        "id": "view-in-github",
        "colab_type": "text"
      },
      "source": [
        "<a href=\"https://colab.research.google.com/github/rifat3790/Python/blob/main/week3_1.ipynb\" target=\"_parent\"><img src=\"https://colab.research.google.com/assets/colab-badge.svg\" alt=\"Open In Colab\"/></a>"
      ]
    },
    {
      "cell_type": "code",
      "execution_count": null,
      "metadata": {
        "id": "B1pf9HgbJio-",
        "colab": {
          "base_uri": "https://localhost:8080/"
        },
        "outputId": "f291ffd0-36f7-4622-bf5d-fdcaffc43523"
      },
      "outputs": [
        {
          "output_type": "stream",
          "name": "stdout",
          "text": [
            "Enter your name: rifat\n",
            "Name: RIFAT\n"
          ]
        }
      ],
      "source": [
        "name = input(\"Enter your name: \")\n",
        "\n",
        "upper = name.upper()\n",
        "print(f\"Name: {upper}\")\n"
      ]
    },
    {
      "cell_type": "code",
      "source": [
        "age = int(input(\"Enter your age: \"))\n",
        "seconds = age * 365 * 24 * 60 * 60\n",
        "print(f\"Age to seconds: {seconds}\")"
      ],
      "metadata": {
        "id": "Ie5FmLk__WmJ",
        "outputId": "298dbcb5-b4cb-4566-90c8-b60081919772",
        "colab": {
          "base_uri": "https://localhost:8080/"
        }
      },
      "execution_count": 1,
      "outputs": [
        {
          "output_type": "stream",
          "name": "stdout",
          "text": [
            "Enter your age: 22\n",
            "Age to seconds: 693792000\n"
          ]
        }
      ]
    },
    {
      "cell_type": "code",
      "source": [
        "num1 = int(input(\"Enter first number: \"))\n",
        "num2 = int(input(\"Enter second number: \"))\n",
        "num3 = int(input(\"Enter third number: \"))\n",
        "\n",
        "num1 += 1\n",
        "num2 += 1\n",
        "num3 += 1\n",
        "\n",
        "print(f\"First number: {num1}\\nSecond number: {num2}\\nThird number: {num3}\")"
      ],
      "metadata": {
        "id": "W4memUL4_nCX",
        "outputId": "1b82279c-3741-49dc-89ad-1e328c8008d0",
        "colab": {
          "base_uri": "https://localhost:8080/"
        }
      },
      "execution_count": 2,
      "outputs": [
        {
          "output_type": "stream",
          "name": "stdout",
          "text": [
            "Enter first number: 1\n",
            "Enter second number: 2\n",
            "Enter third number: 3\n",
            "First number: 2\n",
            "Second number: 3\n",
            "Third number: 4\n"
          ]
        }
      ]
    },
    {
      "cell_type": "code",
      "source": [
        "import math\n",
        "num = int(input(\"Enter your number: \"))\n",
        "squ = num * num\n",
        "\n",
        "root = math.sqrt(squ)\n",
        "\n",
        "print(f\"Squre result: {squ}\\nRoot over: {root}\")"
      ],
      "metadata": {
        "id": "180By7i4_xIF",
        "outputId": "0702583e-4aa3-451a-8dc8-e8c095ff0d5f",
        "colab": {
          "base_uri": "https://localhost:8080/"
        }
      },
      "execution_count": 3,
      "outputs": [
        {
          "output_type": "stream",
          "name": "stdout",
          "text": [
            "Enter your number: 7\n",
            "Squre result: 49\n",
            "Root over: 7.0\n"
          ]
        }
      ]
    },
    {
      "cell_type": "code",
      "source": [
        "num1 = int(input(\"Enter first number: \"))\n",
        "num2 = int(input(\"Enter second number: \"))\n",
        "num3 = int(input(\"Enter third number: \"))\n",
        "\n",
        "multi = num1 * num3\n",
        "add = multi + num2\n",
        "print(f\"Multiply: {multi}\\nAdd: {add}\")"
      ],
      "metadata": {
        "id": "GN-7CM8u_6U1",
        "outputId": "7a3af499-4bdf-44fa-db56-49e288ae46d8",
        "colab": {
          "base_uri": "https://localhost:8080/"
        }
      },
      "execution_count": 4,
      "outputs": [
        {
          "output_type": "stream",
          "name": "stdout",
          "text": [
            "Enter first number: 2\n",
            "Enter second number: 3\n",
            "Enter third number: 4\n",
            "Multiply: 8\n",
            "Add: 11\n"
          ]
        }
      ]
    },
    {
      "cell_type": "code",
      "source": [
        "n = int(input(\"Enter the range: \"))\n",
        "\n",
        "for i in range(n, 0, -1):\n",
        "    if i%2 == 1:\n",
        "        print(i)"
      ],
      "metadata": {
        "id": "HXTFePQ2AA76",
        "outputId": "f476fe6d-b42f-4ab0-f4e9-78d008fd27c3",
        "colab": {
          "base_uri": "https://localhost:8080/"
        }
      },
      "execution_count": 5,
      "outputs": [
        {
          "output_type": "stream",
          "name": "stdout",
          "text": [
            "Enter the range: 10\n",
            "9\n",
            "7\n",
            "5\n",
            "3\n",
            "1\n"
          ]
        }
      ]
    },
    {
      "cell_type": "code",
      "source": [
        "n = int(input(\"Enter the range: \"))\n",
        "\n",
        "for i in range(n, 0, -1):\n",
        "    if i % 2 == 0:\n",
        "        print(i)"
      ],
      "metadata": {
        "id": "ajL6bFZZAIO3",
        "outputId": "8550c6b7-67d6-443b-e985-608d9aac6795",
        "colab": {
          "base_uri": "https://localhost:8080/"
        }
      },
      "execution_count": 9,
      "outputs": [
        {
          "output_type": "stream",
          "name": "stdout",
          "text": [
            "Enter the range: 10\n",
            "10\n",
            "8\n",
            "6\n",
            "4\n",
            "2\n"
          ]
        }
      ]
    },
    {
      "cell_type": "code",
      "source": [
        "st = int(input(\"Enter the starting number: \"))\n",
        "en = int(input(\"Enter the ending number: \"))\n",
        "sum = 0\n",
        "for i in range(st, en):\n",
        "    sum = i + sum\n",
        "print(sum)"
      ],
      "metadata": {
        "id": "RK7Itxp2Aiii",
        "outputId": "66841d69-5516-4d72-c705-847b22ef7c4b",
        "colab": {
          "base_uri": "https://localhost:8080/"
        }
      },
      "execution_count": 10,
      "outputs": [
        {
          "output_type": "stream",
          "name": "stdout",
          "text": [
            "Enter the starting number: 1\n",
            "Enter the ending number: 15\n",
            "105\n"
          ]
        }
      ]
    },
    {
      "cell_type": "code",
      "source": [
        "num = int(input(\"Enter the number: \"))\n",
        "i=1\n",
        "print(\"Divisor number: \")\n",
        "while(i<=num):\n",
        "    if num % i == 0:\n",
        "        print(i)\n",
        "    i+=1"
      ],
      "metadata": {
        "id": "zccYi7TTAorN",
        "outputId": "b25a9e50-03af-4698-cb8c-860a33d6bc8e",
        "colab": {
          "base_uri": "https://localhost:8080/"
        }
      },
      "execution_count": 11,
      "outputs": [
        {
          "output_type": "stream",
          "name": "stdout",
          "text": [
            "Enter the number: 20\n",
            "Divisor number: \n",
            "1\n",
            "2\n",
            "4\n",
            "5\n",
            "10\n",
            "20\n"
          ]
        }
      ]
    },
    {
      "cell_type": "code",
      "source": [
        "num1 = int(input(\"Enter the starting number: \"))\n",
        "num2 = int(input(\"Enter the ending number: \"))\n",
        "\n",
        "while range(num1, num2):\n",
        "    if num1 < num2:\n",
        "        print(num2)\n",
        "    num1 += 1"
      ],
      "metadata": {
        "id": "yeAsygU7Au1V",
        "outputId": "3abf2cf1-00fe-4157-ac7c-a27ce18e5e9e",
        "colab": {
          "base_uri": "https://localhost:8080/"
        }
      },
      "execution_count": 12,
      "outputs": [
        {
          "output_type": "stream",
          "name": "stdout",
          "text": [
            "Enter the starting number: 10\n",
            "Enter the ending number: 20\n",
            "20\n",
            "20\n",
            "20\n",
            "20\n",
            "20\n",
            "20\n",
            "20\n",
            "20\n",
            "20\n",
            "20\n"
          ]
        }
      ]
    },
    {
      "cell_type": "code",
      "source": [
        "st = int(input(\"Enter starting number: \"))\n",
        "en = int(input(\"Enter ending number: \"))\n",
        "\n",
        "even = 0\n",
        "odd = 0\n",
        "for i in range(st, en):\n",
        "    if i % 2 == 1:\n",
        "        odd += i\n",
        "\n",
        "for i in range(en, st, -1):\n",
        "    if i % 2 == 0:\n",
        "        even += i\n",
        "\n",
        "print(f\"Sum even and odd: {even + odd}\")"
      ],
      "metadata": {
        "id": "nGh2TgRhA2Q5",
        "outputId": "cfa1c9d8-d392-470d-dae0-8bdafee00f81",
        "colab": {
          "base_uri": "https://localhost:8080/"
        }
      },
      "execution_count": 13,
      "outputs": [
        {
          "output_type": "stream",
          "name": "stdout",
          "text": [
            "Enter starting number: 10\n",
            "Enter ending number: 20\n",
            "Sum even and odd: 155\n"
          ]
        }
      ]
    }
  ]
}