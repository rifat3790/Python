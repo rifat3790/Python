{
  "nbformat": 4,
  "nbformat_minor": 0,
  "metadata": {
    "colab": {
      "provenance": [],
      "authorship_tag": "ABX9TyPuudEZVS0Pxo6TN7gaKARV",
      "include_colab_link": true
    },
    "kernelspec": {
      "name": "python3",
      "display_name": "Python 3"
    },
    "language_info": {
      "name": "python"
    }
  },
  "cells": [
    {
      "cell_type": "markdown",
      "metadata": {
        "id": "view-in-github",
        "colab_type": "text"
      },
      "source": [
        "<a href=\"https://colab.research.google.com/github/rifat3790/Python/blob/main/week3_1.ipynb\" target=\"_parent\"><img src=\"https://colab.research.google.com/assets/colab-badge.svg\" alt=\"Open In Colab\"/></a>"
      ]
    },
    {
      "cell_type": "code",
      "execution_count": null,
      "metadata": {
        "id": "B1pf9HgbJio-",
        "colab": {
          "base_uri": "https://localhost:8080/"
        },
        "outputId": "f291ffd0-36f7-4622-bf5d-fdcaffc43523"
      },
      "outputs": [
        {
          "output_type": "stream",
          "name": "stdout",
          "text": [
            "Enter your name: rifat\n",
            "Name: RIFAT\n"
          ]
        }
      ],
      "source": [
        "name = input(\"Enter your name: \")\n",
        "\n",
        "upper = name.upper()\n",
        "print(f\"Name: {upper}\")\n"
      ]
    },
    {
      "cell_type": "code",
      "source": [
        "age = int(input(\"Enter your age: \"))\n",
        "seconds = age * 365 * 24 * 60 * 60\n",
        "print(f\"Age to seconds: {seconds}\")"
      ],
      "metadata": {
        "id": "DBX3KCvlT9Lo",
        "outputId": "cdbf103d-8854-4d03-b487-134bf0dfbd82",
        "colab": {
          "base_uri": "https://localhost:8080/"
        }
      },
      "execution_count": 1,
      "outputs": [
        {
          "output_type": "stream",
          "name": "stdout",
          "text": [
            "Enter your age: 22\n",
            "Age to seconds: 693792000\n"
          ]
        }
      ]
    }
  ]
}