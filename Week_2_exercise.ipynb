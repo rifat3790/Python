{
  "nbformat": 4,
  "nbformat_minor": 0,
  "metadata": {
    "colab": {
      "provenance": [],
      "authorship_tag": "ABX9TyNR2kQFP/+MBhm6cwUFFGcW",
      "include_colab_link": true
    },
    "kernelspec": {
      "name": "python3",
      "display_name": "Python 3"
    },
    "language_info": {
      "name": "python"
    }
  },
  "cells": [
    {
      "cell_type": "markdown",
      "metadata": {
        "id": "view-in-github",
        "colab_type": "text"
      },
      "source": [
        "<a href=\"https://colab.research.google.com/github/rifat3790/Python/blob/main/Week_2_exercise.ipynb\" target=\"_parent\"><img src=\"https://colab.research.google.com/assets/colab-badge.svg\" alt=\"Open In Colab\"/></a>"
      ]
    },
    {
      "cell_type": "code",
      "execution_count": 1,
      "metadata": {
        "colab": {
          "base_uri": "https://localhost:8080/"
        },
        "id": "75diidkUxOLh",
        "outputId": "23e44e70-a028-4719-ead4-597c4926bb43"
      },
      "outputs": [
        {
          "output_type": "stream",
          "name": "stdout",
          "text": [
            "Enter the number of movies: 5\n",
            "Enter your favorite movies: \n",
            "Enter movie-1: KGF\n",
            "Enter movie-2: Puspa\n",
            "Enter movie-3: KGF2\n",
            "Enter movie-4: Dune\n",
            "Enter movie-5: Inception\n",
            "Second list of favorite movie:  Puspa\n",
            "Enter add new movie: Puspa2\n",
            "All movies are:  ['KGF', 'Puspa', 'KGF2', 'Dune', 'Inception', 'Puspa2']\n",
            "Update list of favorite movies:  ['Puspa', 'KGF2', 'Dune', 'Inception', 'Puspa2']\n"
          ]
        }
      ],
      "source": [
        "n = int(input(\"Enter the number of movies: \"))\n",
        "favorite_movies = []\n",
        "\n",
        "print(\"Enter your favorite movies: \")\n",
        "for i in range(n):\n",
        "    movie = input(f\"Enter movie-{i+1}: \")\n",
        "    favorite_movies.append(movie)\n",
        "\n",
        "print(f\"Second list of favorite movie: \", favorite_movies[1])\n",
        "\n",
        "new_movie = input(\"Enter add new movie: \")\n",
        "\n",
        "favorite_movies.append(new_movie)\n",
        "print(f\"All movies are: \",favorite_movies)\n",
        "\n",
        "favorite_movies.pop(0)\n",
        "print(f\"Update list of favorite movies: \",favorite_movies)\n"
      ]
    },
    {
      "cell_type": "code",
      "source": [
        "book_info = {\n",
        "    \"title\": \"Algorithms\",\n",
        "    \"author\": \"David Copperfield\",\n",
        "    \"year\": 1974,\n",
        "    \"genre\": \"Computer Science\"\n",
        "}\n",
        "\n",
        "print(f\"Book title: {book_info['title']}\")\n",
        "\n",
        "import datetime\n",
        "current_year = datetime.datetime.now().year\n",
        "book_info['year'] = current_year\n",
        "\n",
        "print(f\"Update Book year: {book_info['year']}\")"
      ],
      "metadata": {
        "colab": {
          "base_uri": "https://localhost:8080/"
        },
        "id": "SkxqMs5qyNmK",
        "outputId": "9618c588-26c4-476b-ddfb-5c77eda70872"
      },
      "execution_count": 2,
      "outputs": [
        {
          "output_type": "stream",
          "name": "stdout",
          "text": [
            "Book title: Algorithms\n",
            "Update Book year: 2024\n"
          ]
        }
      ]
    },
    {
      "cell_type": "code",
      "source": [
        "tupl = (\"Rifat\", 22, 3.2)\n",
        "\n",
        "string_val, int_val, float_val = tupl\n",
        "\n",
        "print(f\"String value: {string_val}\\nInteger value: {int_val}\\nFloat value: {float_val}\")"
      ],
      "metadata": {
        "colab": {
          "base_uri": "https://localhost:8080/"
        },
        "id": "Fr0noYKVyW9j",
        "outputId": "45f09bcc-5727-4ace-c479-2e97b351e5b3"
      },
      "execution_count": 3,
      "outputs": [
        {
          "output_type": "stream",
          "name": "stdout",
          "text": [
            "String value: Rifat\n",
            "Integer value: 22\n",
            "Float value: 3.2\n"
          ]
        }
      ]
    },
    {
      "cell_type": "code",
      "source": [
        "a = {1, 2, 3, 4, 5}\n",
        "b = {4, 5, 6, 7, 8, 9}\n",
        "\n",
        "symmetric_difference = set()\n",
        "\n",
        "for n in a:\n",
        "    if n not in b:\n",
        "        symmetric_difference.add(n)\n",
        "\n",
        "for n in b:\n",
        "    if n not in a:\n",
        "        symmetric_difference.add(n)\n",
        "\n",
        "print(\"Symmetric difference: \", symmetric_difference)"
      ],
      "metadata": {
        "colab": {
          "base_uri": "https://localhost:8080/"
        },
        "id": "JJWFhQMiybgW",
        "outputId": "d0aacdf7-5461-45d5-9a2d-25f7a37c8b5d"
      },
      "execution_count": 4,
      "outputs": [
        {
          "output_type": "stream",
          "name": "stdout",
          "text": [
            "Symmetric difference:  {1, 2, 3, 6, 7, 8, 9}\n"
          ]
        }
      ]
    },
    {
      "cell_type": "code",
      "source": [
        "a = {1, 2, 3, 4, 5}\n",
        "b ={4, 5, 6, 7, 8}\n",
        "\n",
        "union = a | b\n",
        "intersection = a & b\n",
        "print(union)\n",
        "print(intersection)\n",
        "\n",
        "symmetric = union - intersection\n",
        "\n",
        "print(\"Symmetric difference\", symmetric)\n",
        "\n"
      ],
      "metadata": {
        "colab": {
          "base_uri": "https://localhost:8080/"
        },
        "id": "ag1u7nrHyh-2",
        "outputId": "000cfbfd-269e-421d-96cb-e60dfad50f24"
      },
      "execution_count": 5,
      "outputs": [
        {
          "output_type": "stream",
          "name": "stdout",
          "text": [
            "{1, 2, 3, 4, 5, 6, 7, 8}\n",
            "{4, 5}\n",
            "Symmetric difference {1, 2, 3, 6, 7, 8}\n"
          ]
        }
      ]
    },
    {
      "cell_type": "code",
      "source": [
        "first_name = input(\"Enter your first name: \")\n",
        "last_name = input(\"Enter your last name: \")\n",
        "\n",
        "print(f\"Hello {first_name} {last_name}! Welcome to python programming.\")"
      ],
      "metadata": {
        "colab": {
          "base_uri": "https://localhost:8080/"
        },
        "id": "A31oTdFFymEw",
        "outputId": "3a645116-d252-401f-857a-a7f6b0f94cf0"
      },
      "execution_count": 6,
      "outputs": [
        {
          "output_type": "stream",
          "name": "stdout",
          "text": [
            "Enter your first name: Rifat\n",
            "Enter your last name: Hossen\n",
            "Hello Rifat Hossen! Welcome to python programming.\n"
          ]
        }
      ]
    }
  ]
}